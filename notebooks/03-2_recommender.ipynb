{
 "cells": [
  {
   "cell_type": "markdown",
   "metadata": {},
   "source": [
    "# Stock Recommender System\n",
    "\n",
    "In this notebook, we will create the basic stock recommender system, using knowledge-based approaches, collaborative filtering and ranking (based on stock predictions).\n",
    "\n",
    "First we load all relevant items:"
   ]
  },
  {
   "cell_type": "code",
   "execution_count": 2,
   "metadata": {},
   "outputs": [],
   "source": [
    "import pandas as pd\n",
    "import numpy as np\n",
    "import sys, os\n",
    "import sys\n",
    "sys.path.insert(1, '..')\n",
    "import recommender as rcmd\n",
    "from matplotlib import pyplot as plt\n",
    "import seaborn as sns\n",
    "import sklearn_recommender as rec\n",
    "%matplotlib inline\n",
    "\n",
    "from sklearn.feature_extraction.text import CountVectorizer"
   ]
  },
  {
   "cell_type": "markdown",
   "metadata": {},
   "source": [
    "Next we will load and pre-process the relevant data"
   ]
  },
  {
   "cell_type": "code",
   "execution_count": null,
   "metadata": {},
   "outputs": [],
   "source": [
    "# retrieve all relevant symbols\n",
    "stocks = fmp.profile.list_symbols()\n",
    "cache = rcmd.stocks.Cache()\n",
    "\n",
    "# load the relevant profile informations\n",
    "df_profile = cache.load_profile_data()\n",
    "\n",
    "# generate glove embeddings\n",
    "rec.glove.download('twitter')\n",
    "gt = rec.glove.GloVeTransformer('twitter', 25, 'sent', tokenizer=rec.nlp.tokenize_clean)\n",
    "embs = gt.transform(df_profile['description'].fillna(\"\"))\n",
    "df_embs = pd.concat([df_profile[['symbol']], pd.DataFrame(embs)], axis=1).set_index('symbol')\n",
    "\n",
    "# create dummy for categorical values\n",
    "df_sector_dummy = pd.get_dummies(df_profile['sector'], dummy_na=True, prefix='sector')\n",
    "df_industry_dummy = pd.get_dummies(df_profile['industry'], dummy_na=True, prefix='industry')\n",
    "df_exchange_dummy = pd.get_dummies(df_profile['exchange'], dummy_na=True, prefix='exchange')\n",
    "df_cats = pd.concat([df_profile[['symbol']], df_sector_dummy, df_industry_dummy, df_exchange_dummy], axis=1).set_index('symbol')"
   ]
  }
 ],
 "metadata": {
  "kernelspec": {
   "display_name": "ds-stocks",
   "language": "python",
   "name": "ds-stocks"
  },
  "language_info": {
   "codemirror_mode": {
    "name": "ipython",
    "version": 3
   },
   "file_extension": ".py",
   "mimetype": "text/x-python",
   "name": "python",
   "nbconvert_exporter": "python",
   "pygments_lexer": "ipython3",
   "version": "3.5.2"
  }
 },
 "nbformat": 4,
 "nbformat_minor": 4
}
