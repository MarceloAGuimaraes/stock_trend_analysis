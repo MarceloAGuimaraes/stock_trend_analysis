{
 "cells": [
  {
   "cell_type": "markdown",
   "metadata": {},
   "source": [
    "# Data Cleaning & Feature Extraction\n",
    "\n",
    "In this notebook, load the different data sources explored earlier and clean them for our approaches. We will then create a very basic predicition system to check for "
   ]
  },
  {
   "cell_type": "code",
   "execution_count": 1,
   "metadata": {},
   "outputs": [],
   "source": [
    "import pandas as pd\n",
    "import numpy as np\n",
    "import sys, os\n",
    "import sys\n",
    "sys.path.insert(1, '..')\n",
    "import recommender as rcmd\n",
    "%matplotlib inline"
   ]
  },
  {
   "cell_type": "markdown",
   "metadata": {},
   "source": [
    "Next we will load a set of relevant data sources"
   ]
  },
  {
   "cell_type": "code",
   "execution_count": 2,
   "metadata": {},
   "outputs": [],
   "source": [
    "nf = rcmd.news.FPNewsFeed('https://www.ft.com/business-education?format=rss', col_map={'link': 'article_link', 'summary': 'summary', 'title': 'headline', 'published': 'date'}, filter=True)\n",
    "news_meta, df_news = nf.news()\n",
    "sm = rcmd.stocks.FMPStatements()\n",
    "tk = rcmd.stocks.AlphaVantageTicker()\n",
    "df_stocks = rcmd.contrib.fmp_api.profile.list_symbols()"
   ]
  },
  {
   "cell_type": "code",
   "execution_count": 5,
   "metadata": {},
   "outputs": [
    {
     "data": {
      "text/html": [
       "<div>\n",
       "<style scoped>\n",
       "    .dataframe tbody tr th:only-of-type {\n",
       "        vertical-align: middle;\n",
       "    }\n",
       "\n",
       "    .dataframe tbody tr th {\n",
       "        vertical-align: top;\n",
       "    }\n",
       "\n",
       "    .dataframe thead th {\n",
       "        text-align: right;\n",
       "    }\n",
       "</style>\n",
       "<table border=\"1\" class=\"dataframe\">\n",
       "  <thead>\n",
       "    <tr style=\"text-align: right;\">\n",
       "      <th></th>\n",
       "      <th>name</th>\n",
       "      <th>price</th>\n",
       "      <th>symbol</th>\n",
       "    </tr>\n",
       "  </thead>\n",
       "  <tbody>\n",
       "    <tr>\n",
       "      <th>6600</th>\n",
       "      <td>AdvisorShares Sage Core Reserves</td>\n",
       "      <td>99.62</td>\n",
       "      <td>HOLD</td>\n",
       "    </tr>\n",
       "    <tr>\n",
       "      <th>5774</th>\n",
       "      <td>Big Rock Partners Acquisition Corp. Unit</td>\n",
       "      <td>10.93</td>\n",
       "      <td>BRPAU</td>\n",
       "    </tr>\n",
       "    <tr>\n",
       "      <th>1091</th>\n",
       "      <td>AMAG Pharmaceuticals Inc.</td>\n",
       "      <td>11.79</td>\n",
       "      <td>AMAG</td>\n",
       "    </tr>\n",
       "    <tr>\n",
       "      <th>7674</th>\n",
       "      <td>Trilogy Metals Inc.</td>\n",
       "      <td>1.60</td>\n",
       "      <td>TMQ</td>\n",
       "    </tr>\n",
       "    <tr>\n",
       "      <th>6963</th>\n",
       "      <td>Guggenheim Global Dividend Opportunities Index</td>\n",
       "      <td>11.70</td>\n",
       "      <td>LVL</td>\n",
       "    </tr>\n",
       "    <tr>\n",
       "      <th>6750</th>\n",
       "      <td>Alpha Architect International Quantitative Value</td>\n",
       "      <td>27.37</td>\n",
       "      <td>IVAL</td>\n",
       "    </tr>\n",
       "    <tr>\n",
       "      <th>693</th>\n",
       "      <td>Ferro Corporation</td>\n",
       "      <td>12.36</td>\n",
       "      <td>FOE</td>\n",
       "    </tr>\n",
       "    <tr>\n",
       "      <th>2988</th>\n",
       "      <td>Bridgepoint Education Inc.</td>\n",
       "      <td>6.39</td>\n",
       "      <td>BPI</td>\n",
       "    </tr>\n",
       "    <tr>\n",
       "      <th>6066</th>\n",
       "      <td>WisdomTree Global ex-US Real Estate Index</td>\n",
       "      <td>29.80</td>\n",
       "      <td>DRW</td>\n",
       "    </tr>\n",
       "    <tr>\n",
       "      <th>290</th>\n",
       "      <td>Deere &amp; Company</td>\n",
       "      <td>165.36</td>\n",
       "      <td>DE</td>\n",
       "    </tr>\n",
       "  </tbody>\n",
       "</table>\n",
       "</div>"
      ],
      "text/plain": [
       "                                                  name   price symbol\n",
       "6600                  AdvisorShares Sage Core Reserves   99.62   HOLD\n",
       "5774          Big Rock Partners Acquisition Corp. Unit   10.93  BRPAU\n",
       "1091                         AMAG Pharmaceuticals Inc.   11.79   AMAG\n",
       "7674                               Trilogy Metals Inc.    1.60    TMQ\n",
       "6963    Guggenheim Global Dividend Opportunities Index   11.70    LVL\n",
       "6750  Alpha Architect International Quantitative Value   27.37   IVAL\n",
       "693                                  Ferro Corporation   12.36    FOE\n",
       "2988                        Bridgepoint Education Inc.    6.39    BPI\n",
       "6066         WisdomTree Global ex-US Real Estate Index   29.80    DRW\n",
       "290                                    Deere & Company  165.36     DE"
      ]
     },
     "execution_count": 5,
     "metadata": {},
     "output_type": "execute_result"
    }
   ],
   "source": [
    "df_stocks.sample(10)"
   ]
  },
  {
   "cell_type": "markdown",
   "metadata": {},
   "source": [
    "## Data Extraction Pipeline\n",
    "\n",
    "Our goal will be to create a pipeline that can extract data for a specific stock we select from `df_stocks`. This includes the last balance-sheet statements as well as historic stock prices. We should also search for historic news that we can use for the training process."
   ]
  },
  {
   "cell_type": "code",
   "execution_count": null,
   "metadata": {},
   "outputs": [],
   "source": [
    "# TODO: create stock information pipeline (select stock, extract information, join into single dataframe)"
   ]
  },
  {
   "cell_type": "code",
   "execution_count": 6,
   "metadata": {},
   "outputs": [],
   "source": [
    "# TODO: perform cleaning operations"
   ]
  },
  {
   "cell_type": "code",
   "execution_count": null,
   "metadata": {},
   "outputs": [],
   "source": [
    "# TODO: select historic news and scrap entire news articles? + Use Embeddings to integrate them"
   ]
  },
  {
   "cell_type": "markdown",
   "metadata": {},
   "source": [
    "## Feature Extraction\n",
    "\n",
    "Now that we have the relevant data and information for each stock, lets create a feature pipeline and a baseline classifier for profitability (trained using historic data)"
   ]
  },
  {
   "cell_type": "code",
   "execution_count": null,
   "metadata": {},
   "outputs": [],
   "source": []
  },
  {
   "cell_type": "code",
   "execution_count": null,
   "metadata": {},
   "outputs": [],
   "source": []
  }
 ],
 "metadata": {
  "kernelspec": {
   "display_name": "ds-stocks",
   "language": "python",
   "name": "ds-stocks"
  },
  "language_info": {
   "codemirror_mode": {
    "name": "ipython",
    "version": 3
   },
   "file_extension": ".py",
   "mimetype": "text/x-python",
   "name": "python",
   "nbconvert_exporter": "python",
   "pygments_lexer": "ipython3",
   "version": "3.5.2"
  }
 },
 "nbformat": 4,
 "nbformat_minor": 4
}
