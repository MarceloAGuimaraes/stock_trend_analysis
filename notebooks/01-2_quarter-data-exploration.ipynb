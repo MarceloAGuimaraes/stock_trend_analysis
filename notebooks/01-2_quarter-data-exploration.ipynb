{
 "cells": [
  {
   "cell_type": "markdown",
   "metadata": {},
   "source": [
    "# Data Exploration Quarterly Reports\n",
    "\n",
    "This notebook will explore sources for quarterly reports and economic data. It will also look at neccessary data cleaning methods related to that."
   ]
  },
  {
   "cell_type": "code",
   "execution_count": 2,
   "metadata": {},
   "outputs": [],
   "source": [
    "# load the lib\n",
    "import sys\n",
    "sys.path.insert(1, '..')\n",
    "from importlib import reload\n",
    "import recommender as rcmd\n",
    "rcmd = reload(rcmd)"
   ]
  },
  {
   "cell_type": "markdown",
   "metadata": {},
   "source": [
    "## Quarterly Report Data\n",
    "\n",
    "We have two possible APIs that support this kind of data: IexCloud and FinancialModelingPrep. Both are implemented through an abstraction layer in the recommender module (`rcmd.stocks.Statement`), but we will focus on FinancialModelingPrep here (IexCloud requires payments)."
   ]
  },
  {
   "cell_type": "code",
   "execution_count": null,
   "metadata": {},
   "outputs": [],
   "source": []
  },
  {
   "cell_type": "markdown",
   "metadata": {},
   "source": [
    "## World Bank Data"
   ]
  },
  {
   "cell_type": "code",
   "execution_count": 1,
   "metadata": {},
   "outputs": [],
   "source": [
    "import wbdata"
   ]
  },
  {
   "cell_type": "code",
   "execution_count": null,
   "metadata": {},
   "outputs": [],
   "source": []
  }
 ],
 "metadata": {
  "kernelspec": {
   "display_name": "ds-stocks",
   "language": "python",
   "name": "ds-stocks"
  },
  "language_info": {
   "codemirror_mode": {
    "name": "ipython",
    "version": 3
   },
   "file_extension": ".py",
   "mimetype": "text/x-python",
   "name": "python",
   "nbconvert_exporter": "python",
   "pygments_lexer": "ipython3",
   "version": "3.5.2"
  }
 },
 "nbformat": 4,
 "nbformat_minor": 4
}
